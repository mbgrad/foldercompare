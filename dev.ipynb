{
 "metadata": {
  "language_info": {
   "codemirror_mode": {
    "name": "ipython",
    "version": 3
   },
   "file_extension": ".py",
   "mimetype": "text/x-python",
   "name": "python",
   "nbconvert_exporter": "python",
   "pygments_lexer": "ipython3",
   "version": "3.8.3"
  },
  "orig_nbformat": 2,
  "kernelspec": {
   "name": "python383jvsc74a57bd0b3ba2566441a7c06988d0923437866b63cedc61552a5af99d1f4fb67d367b25f",
   "display_name": "Python 3.8.3 64-bit ('base': conda)"
  }
 },
 "nbformat": 4,
 "nbformat_minor": 2,
 "cells": [
  {
   "cell_type": "code",
   "execution_count": 1,
   "metadata": {},
   "outputs": [],
   "source": [
    "import os"
   ]
  },
  {
   "cell_type": "code",
   "execution_count": 2,
   "metadata": {},
   "outputs": [
    {
     "output_type": "execute_result",
     "data": {
      "text/plain": [
       "'c:\\\\Users\\\\JordanaLazar\\\\Documents\\\\gitRepos\\\\foldercompare'"
      ]
     },
     "metadata": {},
     "execution_count": 2
    }
   ],
   "source": [
    "os.getcwd()"
   ]
  },
  {
   "cell_type": "code",
   "execution_count": 3,
   "metadata": {},
   "outputs": [],
   "source": [
    "photodir = 'N:\\Rebecca\\images'"
   ]
  },
  {
   "cell_type": "code",
   "execution_count": 25,
   "metadata": {},
   "outputs": [
    {
     "output_type": "execute_result",
     "data": {
      "text/plain": [
       "['.DS_Store',\n",
       " '12191488_10156198200330483_1146182373343321264_n.jpg',\n",
       " '2019_RG professional headshot.jpg',\n",
       " 'Google Executive Marketing G.textClipping',\n",
       " 'IMG_20141205_125357.jpg',\n",
       " 'NYC from ferry.jpg',\n",
       " 'photoshop creative',\n",
       " 'Screen Shot 2021-04-11 at 8.35.50 PM.png',\n",
       " 'Screen Shot 2021-04-11 at 8.36.24 PM.png',\n",
       " 'Screen Shot 2021-04-11 at 8.37.45 PM.png',\n",
       " 'Screen Shot 2021-04-11 at 8.41.24 PM.png',\n",
       " 'Screen Shot 2021-04-11 at 8.50.45 PM.png',\n",
       " 'Screen Shot 2021-04-11 at 8.51.59 PM.png']"
      ]
     },
     "metadata": {},
     "execution_count": 25
    }
   ],
   "source": [
    "os.listdir(photodir)"
   ]
  },
  {
   "cell_type": "code",
   "execution_count": 27,
   "metadata": {},
   "outputs": [
    {
     "output_type": "execute_result",
     "data": {
      "text/plain": [
       "{'.DS_Store',\n",
       " '12191488_10156198200330483_1146182373343321264_n.jpg',\n",
       " '2019_RG professional headshot.jpg',\n",
       " 'Google Executive Marketing G.textClipping',\n",
       " 'IMG_20141205_125357.jpg',\n",
       " 'NYC from ferry.jpg',\n",
       " 'Screen Shot 2021-04-11 at 8.35.50 PM.png',\n",
       " 'Screen Shot 2021-04-11 at 8.36.24 PM.png',\n",
       " 'Screen Shot 2021-04-11 at 8.37.45 PM.png',\n",
       " 'Screen Shot 2021-04-11 at 8.41.24 PM.png',\n",
       " 'Screen Shot 2021-04-11 at 8.50.45 PM.png',\n",
       " 'Screen Shot 2021-04-11 at 8.51.59 PM.png'}"
      ]
     },
     "metadata": {},
     "execution_count": 27
    }
   ],
   "source": [
    "set(filename for filename in os.listdir(photodir) if os.path.isfile(os.path.join(photodir,filename)))"
   ]
  },
  {
   "cell_type": "code",
   "execution_count": 11,
   "metadata": {},
   "outputs": [
    {
     "output_type": "stream",
     "name": "stdout",
     "text": [
      "Found directory: N:\\Rebecca\\images\n\tN:\\Rebecca\\images\\.DS_Store\n\tN:\\Rebecca\\images\\12191488_10156198200330483_1146182373343321264_n.jpg\n\tN:\\Rebecca\\images\\2019_RG professional headshot.jpg\n\tN:\\Rebecca\\images\\Google Executive Marketing G.textClipping\n\tN:\\Rebecca\\images\\IMG_20141205_125357.jpg\n\tN:\\Rebecca\\images\\NYC from ferry.jpg\n\tN:\\Rebecca\\images\\Screen Shot 2021-04-11 at 8.35.50 PM.png\n\tN:\\Rebecca\\images\\Screen Shot 2021-04-11 at 8.36.24 PM.png\n\tN:\\Rebecca\\images\\Screen Shot 2021-04-11 at 8.37.45 PM.png\n\tN:\\Rebecca\\images\\Screen Shot 2021-04-11 at 8.41.24 PM.png\n\tN:\\Rebecca\\images\\Screen Shot 2021-04-11 at 8.50.45 PM.png\n\tN:\\Rebecca\\images\\Screen Shot 2021-04-11 at 8.51.59 PM.png\nFound directory: N:\\Rebecca\\images\\photoshop creative\n\tN:\\Rebecca\\images\\photoshop creative\\alex-vasey-F5HtPjpBb9k-unsplash.jpg\n\tN:\\Rebecca\\images\\photoshop creative\\anthony-delanoix-QAwciFlS1g4-unsplash.jpg\n\tN:\\Rebecca\\images\\photoshop creative\\Job-tweet-pics.psd\n\tN:\\Rebecca\\images\\photoshop creative\\KT_Andrew-Puzzle-2.jpg\n\tN:\\Rebecca\\images\\photoshop creative\\KT_Andrew-Puzzle-3.jpg\n\tN:\\Rebecca\\images\\photoshop creative\\KT_Andrew-Puzzle-crop.png\n\tN:\\Rebecca\\images\\photoshop creative\\KT_Andrew-Puzzle-edited.jpg\n\tN:\\Rebecca\\images\\photoshop creative\\KT_Andrew-Puzzle-edited.psd\n\tN:\\Rebecca\\images\\photoshop creative\\KT_Andrew-Puzzle-final.jpg\n\tN:\\Rebecca\\images\\photoshop creative\\Penny.png\n"
     ]
    }
   ],
   "source": [
    "# Import the os module, for the os.walk function\n",
    "import os\n",
    " \n",
    "# Set the directory you want to start from\n",
    "# rootDir = '.'\n",
    "for dirName, subdirList, fileList in os.walk(photodir):\n",
    "    print('Found directory: %s' % dirName)\n",
    "    for fname in fileList:\n",
    "        print('\\t{}\\{}'.format(dirName, fname))"
   ]
  },
  {
   "cell_type": "code",
   "execution_count": 12,
   "metadata": {},
   "outputs": [],
   "source": [
    "def fn_matchingfile(inputfile,inputdir):\n",
    "\n",
    "    for dirName, subdirList, fileList in os.walk(inputdir):\n",
    "        # print('Found directory: %s' % dirName)\n",
    "        for fname in fileList:\n",
    "            if fname==inputfile:\n",
    "                print('Source File: {} \\t Matching File: {}\\{}'.format(inputfile, dirName, fname))"
   ]
  },
  {
   "cell_type": "code",
   "execution_count": 21,
   "metadata": {},
   "outputs": [
    {
     "output_type": "stream",
     "name": "stdout",
     "text": [
      "Source File: NYC from ferry.jpg \t Matching File: N:\\Rebecca\\images\\NYC from ferry.jpg\n"
     ]
    }
   ],
   "source": [
    "fn_matchingfile(inputfile='NYC from ferry.jpg',inputdir='N:\\\\Rebecca')"
   ]
  },
  {
   "cell_type": "code",
   "execution_count": 34,
   "metadata": {},
   "outputs": [],
   "source": [
    "def fn_compare_dirs(dir1,dir2):\n",
    "    set1=set(filename for filename in os.listdir(dir1) if os.path.isfile(os.path.join(dir1,filename)))\n",
    "    set2=set(filename for filename in os.listdir(dir2) if os.path.isfile(os.path.join(dir2,filename)))\n",
    "    return set1.intersection(set2)"
   ]
  },
  {
   "cell_type": "code",
   "execution_count": 36,
   "metadata": {},
   "outputs": [
    {
     "output_type": "execute_result",
     "data": {
      "text/plain": [
       "{'.DS_Store',\n",
       " '12191488_10156198200330483_1146182373343321264_n.jpg',\n",
       " '2019_RG professional headshot.jpg',\n",
       " 'Google Executive Marketing G.textClipping',\n",
       " 'IMG_20141205_125357.jpg',\n",
       " 'NYC from ferry.jpg',\n",
       " 'Screen Shot 2021-04-11 at 8.35.50 PM.png',\n",
       " 'Screen Shot 2021-04-11 at 8.36.24 PM.png',\n",
       " 'Screen Shot 2021-04-11 at 8.37.45 PM.png',\n",
       " 'Screen Shot 2021-04-11 at 8.41.24 PM.png',\n",
       " 'Screen Shot 2021-04-11 at 8.50.45 PM.png',\n",
       " 'Screen Shot 2021-04-11 at 8.51.59 PM.png'}"
      ]
     },
     "metadata": {},
     "execution_count": 36
    }
   ],
   "source": [
    "fn_compare_dirs(photodir,photodir)"
   ]
  },
  {
   "cell_type": "code",
   "execution_count": null,
   "metadata": {},
   "outputs": [],
   "source": []
  }
 ]
}